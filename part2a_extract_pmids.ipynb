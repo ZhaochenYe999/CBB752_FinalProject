{
  "cells": [
    {
      "cell_type": "markdown",
      "metadata": {
        "id": "view-in-github",
        "colab_type": "text"
      },
      "source": [
        "<a href=\"https://colab.research.google.com/github/ZhaochenYe999/CBB752_FinalProject/blob/main/part2a_extract_pmids.ipynb\" target=\"_parent\"><img src=\"https://colab.research.google.com/assets/colab-badge.svg\" alt=\"Open In Colab\"/></a>"
      ]
    },
    {
      "cell_type": "code",
      "execution_count": null,
      "metadata": {
        "id": "8WAf6QkdBA_8"
      },
      "outputs": [],
      "source": [
        "import pandas as pd\n",
        "import numpy as np\n",
        "import time\n",
        "import requests\n",
        "import xml.etree.ElementTree as ET\n",
        "import json"
      ]
    },
    {
      "cell_type": "code",
      "execution_count": null,
      "metadata": {
        "id": "NDMoRvEXBA_-"
      },
      "outputs": [],
      "source": [
        "def View(df, rows=None, cols=None, width=None):\n",
        "\n",
        "    with pd.option_context(\n",
        "        \"display.max_rows\", rows,\n",
        "        \"display.max_columns\", cols,\n",
        "        \"display.max_colwidth\", width,\n",
        "        \"display.expand_frame_repr\", False\n",
        "    ):\n",
        "        display(df.head(rows))"
      ]
    },
    {
      "cell_type": "code",
      "execution_count": null,
      "metadata": {
        "id": "-A-_YYVfBA_-"
      },
      "outputs": [],
      "source": [
        "def get_pmid(gene, max_results=20):\n",
        "    result = []\n",
        "    url = f\"https://eutils.ncbi.nlm.nih.gov/entrez/eutils/esearch.fcgi?db=pubmed&term={gene}&retmode=xml&retmax={max_results}\"\n",
        "    r = requests.get(url=url)\n",
        "    if r.status_code != 200:\n",
        "        print(f\"Lookup of {gene} failed; status: {r.status_code}\")\n",
        "    else:\n",
        "        root = ET.fromstring(r.text)\n",
        "        pmids = root.findall(\".//Id\")\n",
        "        for pmid in pmids:\n",
        "            result.append(pmid.text)\n",
        "        return result"
      ]
    },
    {
      "cell_type": "code",
      "source": [
        "gene_df = pd.read_csv(\"https://raw.githubusercontent.com/ZhaochenYe999/CBB752_FinalProject/refs/heads/main/genelist/genelist_NonSynoymousVariants.csv\").drop(columns=[\"Unnamed: 0\"])"
      ],
      "metadata": {
        "id": "baJwXNnNfY7n"
      },
      "execution_count": null,
      "outputs": []
    },
    {
      "cell_type": "code",
      "source": [
        "#taking the top 11 since there is a tie\n",
        "gene_df_sorted = gene_df.sort_values(by=\"Mutation_count\", ascending=False).head(11)"
      ],
      "metadata": {
        "id": "VHGKBCl5fhJP"
      },
      "execution_count": null,
      "outputs": []
    },
    {
      "cell_type": "code",
      "execution_count": null,
      "metadata": {
        "id": "uQUz6KjeBA__"
      },
      "outputs": [],
      "source": [
        "genes = list(gene_df_sorted[\"Gene_symbol\"].values)\n",
        "\n",
        "rows = []\n",
        "\n",
        "for gene in genes:\n",
        "    pmids = get_pmid(gene)\n",
        "    print(f\"{gene}: {len(pmids)} PMIDs\")\n",
        "    for pmid in pmids:\n",
        "        rows.append({\"gene\": gene, \"pmid\": pmid})\n",
        "    time.sleep(0.4)\n",
        "\n",
        "df = pd.DataFrame(rows)"
      ]
    },
    {
      "cell_type": "code",
      "source": [
        "!pip install biopython"
      ],
      "metadata": {
        "id": "0vw5_dr9ghiG"
      },
      "execution_count": null,
      "outputs": []
    },
    {
      "cell_type": "code",
      "execution_count": null,
      "metadata": {
        "id": "mNCdt1RiBBAA"
      },
      "outputs": [],
      "source": [
        "from Bio import Entrez\n",
        "Entrez.email = \"inna.cohen@gmail.com\"\n",
        "\n",
        "def get_abstract(pmid):\n",
        "    try:\n",
        "        handle = Entrez.efetch(db=\"pubmed\", id=str(pmid), rettype=\"abstract\", retmode=\"text\")\n",
        "        return handle.read()\n",
        "    except Exception as e:\n",
        "        return f\"ERROR: {e}\"\n",
        "\n",
        "df[\"abstract\"] = df[\"pmid\"].apply(get_abstract)\n"
      ]
    },
    {
      "cell_type": "code",
      "execution_count": null,
      "metadata": {
        "id": "lW_2RrSVBBAA"
      },
      "outputs": [],
      "source": [
        "df[\"abstract\"] = df[\"abstract\"].str.replace(\"\\n\", \" \", regex=False).str.strip()"
      ]
    },
    {
      "cell_type": "code",
      "execution_count": null,
      "metadata": {
        "id": "73FCq36DBBAA"
      },
      "outputs": [],
      "source": [
        "df.to_csv(\"raw_abstracts.csv\", index=False)"
      ]
    },
    {
      "cell_type": "code",
      "execution_count": null,
      "metadata": {
        "id": "iVcc7h_pBBAA"
      },
      "outputs": [],
      "source": [
        "df2 = pd.read_csv(\"raw_abstracts.csv\")"
      ]
    },
    {
      "cell_type": "code",
      "execution_count": null,
      "metadata": {
        "id": "hqMuhhJWBBAA"
      },
      "outputs": [],
      "source": [
        "df2.head()"
      ]
    },
    {
      "cell_type": "code",
      "source": [
        "#!pip install huggingface_hub scispacy\n",
        "#from huggingface_hub import login\n",
        "#login()\n"
      ],
      "metadata": {
        "id": "VcncMXZvEMLM"
      },
      "execution_count": null,
      "outputs": []
    },
    {
      "cell_type": "code",
      "source": [
        "from transformers import pipeline, AutoTokenizer, AutoModelForTokenClassification\n",
        "from transformers.pipelines import AggregationStrategy\n",
        "\n",
        "model_name = \"alvaroalon2/biobert_diseases_ner\"\n",
        "tokenizer = AutoTokenizer.from_pretrained(model_name)\n",
        "model = AutoModelForTokenClassification.from_pretrained(model_name)\n",
        "\n",
        "\n",
        "ner = pipeline(\"ner\", model=model, tokenizer=tokenizer, aggregation_strategy=\"simple\")\n",
        "\n",
        "def extract_disease_entities(text):\n",
        "    results = ner(text)\n",
        "    return [entity['word'] for entity in results if entity['entity_group'] == 'DISEASE']"
      ],
      "metadata": {
        "id": "zRvR0n6zFmWA"
      },
      "execution_count": null,
      "outputs": []
    },
    {
      "cell_type": "code",
      "source": [
        "def extract_disease_entities(text):\n",
        "    raw = ner(text)\n",
        "\n",
        "    # Only keep disease entities\n",
        "    entities = [ent['word'] for ent in raw if ent.get('entity_group', '') == 'DISEASE']\n",
        "\n",
        "    # Join subword tokens and convert to lowercase\n",
        "    cleaned = []\n",
        "    skip_next = False\n",
        "    for i in range(len(entities)):\n",
        "        if skip_next:\n",
        "            skip_next = False\n",
        "            continue\n",
        "\n",
        "        current = entities[i]\n",
        "        if i + 1 < len(entities) and entities[i + 1].startswith(\"##\"):\n",
        "            # Merge current and next\n",
        "            merged = current + entities[i + 1].replace(\"##\", \"\")\n",
        "            cleaned.append(merged.strip(\".,:;- \").lower())\n",
        "            skip_next = True\n",
        "        else:\n",
        "            cleaned.append(current.replace(\"##\", \"\").strip(\".,:;- \").lower())\n",
        "\n",
        "    cleaned = list(set(cleaned))  # Remove duplicates\n",
        "    return cleaned\n"
      ],
      "metadata": {
        "id": "NBjsFo2OHcJq"
      },
      "execution_count": null,
      "outputs": []
    },
    {
      "cell_type": "code",
      "source": [
        "abstract = \"\"\"\n",
        "1. Endokrynol Pol. 2020;71(3):213-226. doi: 10.5603/EP.a2020.0025. Identification of related long non-coding RNAs and mRNAs in subclinical hypothyroidism complicated with type 2 diabetes by transcriptome analysis - a preliminary study. Jiang Q(1)(2)(3), Sun L(4), Lu Y(5), Han S(4), Hou L(5), Lou K(5), Li J(5), Wang L(5), Pang S(5). Author information: (1)Department of Endocrinology, Jinan Central Hospital, Cheeloo College of Medicine, Shandong University, Jinan, China. jiangqiangjinan@sina.com. (2)Department of Endocrinology, Jinan Central Hospital Affliated to Shandong First Medical University, Jinan, China. jiangqiangjinan@sina.com. (3)Central Laboratory, Jinan central Hospital, Cheeloo College of Medicine, Shandong University, Jinan, China. jiangqiangjinan@sina.com. (4)Central Laboratory, Jinan central Hospital, Cheeloo College of Medicine, Shandong University, Jinan, China. (5)Department of Endocrinology, Jinan Central Hospital, Cheeloo College of Medicine, Shandong University, Jinan, China. INTRODUCTION: The pathology mechanism of subclinical hypothyroidism and subclinical hypothyroidism complicated with type 2 diabetes remained uncertain. We aimed to find potential related long non-coding RNAs (lncRNAs) and mRNAs in the above diseases. MATERIAL AND METHODS: Transcriptome sequencing was performed in three patients with subclinical hypothyroidism (S), three patients with subclinical hypothyroidism complicated with type 2 diabetes (SD), and three healthy controls (N). Differentially expressed mRNAs (DEmRNAs) and differentially expressed lncRNAs (DElncRNAs) were screened in S vs. N, SD vs. N, and SD vs. S group, and the nearby and co-expressed DEmRNAs of DElncRNAs were screened in S vs. N and SD vs. N. Moreover, functional analysis of DEmRNAs was then performed by Metascape. RESULTS: In total, 465, 1058, and 943 DEmRNAs were obtained in S vs. N, SD vs. N, SD vs. S, respectively, and 191 overlapping genes were obtained in S vs. N and SD vs. N group. Among which, LAIR2, PNMA6A, and SFRP2 were deduced to be involved in subclinical hypothyroidism, and GPR162, APOL4, and ANK1 were deduced to be associated with subclinical hypothyroidism complicated with type 2 diabetes. A total of 50, 100, and 88 DElncRNAs were obtained in S vs. N, SD vs. N and SD vs. S, respectively. Combining with the interaction network of DElncRNA-DEmRNA, PAX8-AS1, co-expressed with KIR3DL1, was identified to function in subclinical hypothyroidism, and JHDM1D-AS1, co-expressed with ANK1, was deduced to play a role in subclinical hypothyroidism complicated with type 2 diabetes. CONCLUSIONS: Dysfunctional lncRNAs and mRNAs may be involved in the development of subclinical hypothyroidism and subclinical hypothyroidism complicated with type 2 diabetes. DOI: 10.5603/EP.a2020.0025 PMID: 36624669\n",
        "\"\"\"\n",
        "\n",
        "print(extract_disease_entities(abstract))\n"
      ],
      "metadata": {
        "id": "JwTKuvvdDLJe"
      },
      "execution_count": null,
      "outputs": []
    },
    {
      "cell_type": "code",
      "source": [
        "df2[\"disease_entities\"] = df2[\"abstract\"].apply(extract_disease_entities).copy()"
      ],
      "metadata": {
        "id": "ekZsnh-dJt-c"
      },
      "execution_count": null,
      "outputs": []
    },
    {
      "cell_type": "code",
      "source": [
        "df2.to_csv(\"abstracts.csv\")"
      ],
      "metadata": {
        "id": "2hGSkVMyWl6b"
      },
      "execution_count": null,
      "outputs": []
    },
    {
      "cell_type": "code",
      "source": [
        "df2.to_csv(\"abstracts.csv\")"
      ],
      "metadata": {
        "id": "V_ImW1tIRFCs"
      },
      "execution_count": null,
      "outputs": []
    },
    {
      "cell_type": "code",
      "source": [
        "df2.head()"
      ],
      "metadata": {
        "id": "caA73CPqS3Eu"
      },
      "execution_count": null,
      "outputs": []
    },
    {
      "cell_type": "code",
      "source": [
        "df2.to_csv(\"abstracts.csv\")"
      ],
      "metadata": {
        "id": "moArfYmnPswh"
      },
      "execution_count": null,
      "outputs": []
    },
    {
      "cell_type": "code",
      "source": [
        "df2"
      ],
      "metadata": {
        "id": "R7KNrsB3TCqH"
      },
      "execution_count": null,
      "outputs": []
    }
  ],
  "metadata": {
    "kernelspec": {
      "display_name": ".venv",
      "language": "python",
      "name": "python3"
    },
    "language_info": {
      "codemirror_mode": {
        "name": "ipython",
        "version": 3
      },
      "file_extension": ".py",
      "mimetype": "text/x-python",
      "name": "python",
      "nbconvert_exporter": "python",
      "pygments_lexer": "ipython3",
      "version": "3.13.2"
    },
    "colab": {
      "provenance": [],
      "include_colab_link": true
    }
  },
  "nbformat": 4,
  "nbformat_minor": 0
}