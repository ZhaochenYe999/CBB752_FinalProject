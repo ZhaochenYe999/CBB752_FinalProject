{
 "cells": [
  {
   "cell_type": "code",
   "execution_count": 99,
   "id": "28521193-608f-4128-ae06-1e6ee470ff0c",
   "metadata": {},
   "outputs": [],
   "source": [
    "### A wonderful tutorial on VariantAnnotation:\n",
    "### https://www.bioconductor.org/packages/devel/bioc/vignettes/VariantAnnotation/inst/doc/VariantAnnotation.html#variant-call-format-vcf-files"
   ]
  },
  {
   "cell_type": "code",
   "execution_count": 104,
   "id": "7026167d-048b-4d4e-8698-62a4e63c082d",
   "metadata": {},
   "outputs": [],
   "source": [
    "library(VariantAnnotation)\n",
    "library(dplyr)\n",
    "library(TxDb.Hsapiens.UCSC.hg19.knownGene)\n",
    "library(org.Hs.eg.db)\n",
    "library(BSgenome.Hsapiens.UCSC.hg19)"
   ]
  },
  {
   "cell_type": "code",
   "execution_count": 100,
   "id": "4be8ede6-c4a5-4de6-bba5-8bdf1ba63a12",
   "metadata": {},
   "outputs": [],
   "source": [
    "vcf = readVcf(\"./Z.variantCall.SNPs.vcf\", \"hg19\")"
   ]
  },
  {
   "cell_type": "code",
   "execution_count": 105,
   "id": "c97811b1-e7b6-4869-8d57-e302bcd1211a",
   "metadata": {},
   "outputs": [],
   "source": [
    "# Select variants on chr22, and modify the seqlevels to chr22 to match txdb seqlevels\n",
    "vcf_chr22 = subset(vcf, seqnames(rowRanges(vcf)) == \"22\")\n",
    "vcf_chr22 = keepSeqlevels(vcf_chr22, value = \"22\", pruning.mode = \"coarse\")\n",
    "seqlevels(vcf_chr22) = \"chr22\""
   ]
  },
  {
   "cell_type": "code",
   "execution_count": 123,
   "id": "2d80b3eb-c9fe-4f17-8ccc-211b67cec3c0",
   "metadata": {
    "collapsed": true,
    "jupyter": {
     "outputs_hidden": true
    }
   },
   "outputs": [
    {
     "name": "stderr",
     "output_type": "stream",
     "text": [
      "Warning message in valid.GenomicRanges.seqinfo(x, suggest.trim = TRUE):\n",
      "“GRanges object contains 1892 out-of-bound ranges located on sequences\n",
      "  74442, 73481, 74448, 73495, 73496, 73498, 73504, 74469, 74470, 74507,\n",
      "  74508, 74509, 74510, 74505, 74506, 73534, 73543, 73547, 74544, 73574,\n",
      "  73575, 73576, 74549, 74569, 74570, 73622, 73623, 73624, 73625, 74578,\n",
      "  74579, 73648, 73649, 74600, 74603, 73666, 73667, 73671, 73672, 73673,\n",
      "  73674, 73675, 73679, 74623, 74624, 74625, 74626, 74627, 74628, 74629,\n",
      "  74630, 73700, 73701, 73703, 74655, 73713, 73714, 74662, 73735, 73736,\n",
      "  73737, 73739, 73745, 73746, 73747, 73750, 73751, 73756, 73757, 73758,\n",
      "  73762, 73763, 74705, 74706, 73776, 73777, 73782, 73793, 73798, 73801,\n",
      "  73802, 73803, 73804, 73805, 73806, 74714, 74717, 74718, 74715, 74716,\n",
      "  74719, 74720, 74722, 74723, 74724, 74725, 74742, 73830, 73831, 74756,\n",
      "  74757, 74762, 74763, 74764, 73852, 74779, 74781, 73872, 73873, 73874,\n",
      "  73878, 73879, 74800, 74801, 74802, 74803, 74809, 73926, 73929, 73938,\n",
      "  73939, 73940, 73941, 73942, 74829, 74831, 73946, 73947, 73948, 73949,\n",
      "  73951, 73952, 74844, 74845, 74848, 73975, 73978, 73979, 74859, 74861,\n",
      "  73982, 73983, 73984, 73993, 74882, 74883, 74884, 74011, 74895, 74896,\n",
      "  74897, 74902, 74903, 74904, 74906, 74907, 74908, 74014, 74015, 74018,\n",
      "  74019, 74928, 74022, 74023, 74024, 74933, 74940, 74938, 74943, 74944,\n",
      "  74949, 74046, 74049, 74055, 74056, 74057, 74058, 74067, 74068, 74069,\n",
      "  75023, 75025, 74087, 74088, 75060, 75061, 74096, 74097, 74099, 74104,\n",
      "  74105, 74106, 74110, 74111, 74112, 74113, 74136, 74137, 74134, 74135,\n",
      "  74146, 75081, 75082, 75083, 75084, 74165, 74171, 74174, 74172, 75101,\n",
      "  74181, 74183, 74184, 74185, 74186, 75121, 75122, 75123, 74213, 74214,\n",
      "  75124, 75126, 75131, 75134, 74225, 74226, 74228, 75167, 75168, 75169,\n",
      "  74234, 75181, 75182, 75183, 75184, 75185, 75186, 75187, 75189, 75191,\n",
      "  74253, 74250, 74274, 74271, 74272, 74277, 74278, 75207, 75208, 75209,\n",
      "  75210, 74286, 74288, 74289, 75219, 74295, 74296, 74297, 74298, 74299,\n",
      "  74300, 74308, 74309, 74323, 74324, 75243, 74364, 74365, 74366, 74367,\n",
      "  74369, 74372, 74374, 74375, 74378, 75276, 75281, 75282, 75283, 74389,\n",
      "  75287, 75288, 74392, 74393, 75291, 74402, 74404, 75319, 75320, 75321,\n",
      "  75322, 75323, 75324, and 74408. Note that ranges located on a sequence\n",
      "  whose length is unknown (NA) or on a circular sequence are not\n",
      "  considered out-of-bound (use seqlengths() and isCircular() to get the\n",
      "  lengths and circularity flags of the underlying sequences). You can use\n",
      "  trim() to trim these ranges. See ?`trim,GenomicRanges-method` for more\n",
      "  information.”\n",
      "'select()' returned many:1 mapping between keys and columns\n",
      "\n",
      "'select()' returned many:1 mapping between keys and columns\n",
      "\n",
      "'select()' returned many:1 mapping between keys and columns\n",
      "\n",
      "'select()' returned many:1 mapping between keys and columns\n",
      "\n",
      "'select()' returned many:1 mapping between keys and columns\n",
      "\n",
      "'select()' returned many:1 mapping between keys and columns\n",
      "\n",
      "Warning message in valid.GenomicRanges.seqinfo(x, suggest.trim = TRUE):\n",
      "“GRanges object contains 413 out-of-bound ranges located on sequence\n",
      "  chr22. Note that ranges located on a sequence whose length is unknown\n",
      "  (NA) or on a circular sequence are not considered out-of-bound (use\n",
      "  seqlengths() and isCircular() to get the lengths and circularity flags\n",
      "  of the underlying sequences). You can use trim() to trim these ranges.\n",
      "  See ?`trim,GenomicRanges-method` for more information.”\n",
      "Warning message in valid.GenomicRanges.seqinfo(x, suggest.trim = TRUE):\n",
      "“GRanges object contains 413 out-of-bound ranges located on sequence\n",
      "  chr22. Note that ranges located on a sequence whose length is unknown\n",
      "  (NA) or on a circular sequence are not considered out-of-bound (use\n",
      "  seqlengths() and isCircular() to get the lengths and circularity flags\n",
      "  of the underlying sequences). You can use trim() to trim these ranges.\n",
      "  See ?`trim,GenomicRanges-method` for more information.”\n",
      "Warning message in valid.GenomicRanges.seqinfo(x, suggest.trim = TRUE):\n",
      "“GRanges object contains 413 out-of-bound ranges located on sequence\n",
      "  chr22. Note that ranges located on a sequence whose length is unknown\n",
      "  (NA) or on a circular sequence are not considered out-of-bound (use\n",
      "  seqlengths() and isCircular() to get the lengths and circularity flags\n",
      "  of the underlying sequences). You can use trim() to trim these ranges.\n",
      "  See ?`trim,GenomicRanges-method` for more information.”\n"
     ]
    }
   ],
   "source": [
    "##################################################################################\n",
    "\n",
    "########## Criterion 1: all variants ##########\n",
    "\n",
    "# Assign variants to the genes\n",
    "txdb = TxDb.Hsapiens.UCSC.hg19.knownGene\n",
    "loc = locateVariants(vcf_chr22, txdb, AllVariants())\n",
    "\n",
    "#splt = split(loc$QUERYID, loc$GENEID)\n",
    "#head(sapply(splt, function(x) length(unique(x))), 50)\n",
    "#splt = split(loc$GENEID, loc$QUERYID)\n",
    "#table(sapply(splt, function(x) length(unique(x)) > 1))\n",
    "\n",
    "# Count mutations in genes\n",
    "splt = split(loc$QUERYID, loc$GENEID)\n",
    "variants = sapply(splt, function(x) length(unique(x)))\n",
    "gene_ids = names(variants)"
   ]
  },
  {
   "cell_type": "code",
   "execution_count": 116,
   "id": "574341eb-211e-413d-ab0c-5d855a3294b3",
   "metadata": {
    "collapsed": true,
    "jupyter": {
     "outputs_hidden": true
    }
   },
   "outputs": [
    {
     "name": "stderr",
     "output_type": "stream",
     "text": [
      "Warning message in valid.GenomicRanges.seqinfo(x, suggest.trim = TRUE):\n",
      "“GRanges object contains 1892 out-of-bound ranges located on sequences\n",
      "  74442, 73481, 74448, 73495, 73496, 73498, 73504, 74469, 74470, 74507,\n",
      "  74508, 74509, 74510, 74505, 74506, 73534, 73543, 73547, 74544, 73574,\n",
      "  73575, 73576, 74549, 74569, 74570, 73622, 73623, 73624, 73625, 74578,\n",
      "  74579, 73648, 73649, 74600, 74603, 73666, 73667, 73671, 73672, 73673,\n",
      "  73674, 73675, 73679, 74623, 74624, 74625, 74626, 74627, 74628, 74629,\n",
      "  74630, 73700, 73701, 73703, 74655, 73713, 73714, 74662, 73735, 73736,\n",
      "  73737, 73739, 73745, 73746, 73747, 73750, 73751, 73756, 73757, 73758,\n",
      "  73762, 73763, 74705, 74706, 73776, 73777, 73782, 73793, 73798, 73801,\n",
      "  73802, 73803, 73804, 73805, 73806, 74714, 74717, 74718, 74715, 74716,\n",
      "  74719, 74720, 74722, 74723, 74724, 74725, 74742, 73830, 73831, 74756,\n",
      "  74757, 74762, 74763, 74764, 73852, 74779, 74781, 73872, 73873, 73874,\n",
      "  73878, 73879, 74800, 74801, 74802, 74803, 74809, 73926, 73929, 73938,\n",
      "  73939, 73940, 73941, 73942, 74829, 74831, 73946, 73947, 73948, 73949,\n",
      "  73951, 73952, 74844, 74845, 74848, 73975, 73978, 73979, 74859, 74861,\n",
      "  73982, 73983, 73984, 73993, 74882, 74883, 74884, 74011, 74895, 74896,\n",
      "  74897, 74902, 74903, 74904, 74906, 74907, 74908, 74014, 74015, 74018,\n",
      "  74019, 74928, 74022, 74023, 74024, 74933, 74940, 74938, 74943, 74944,\n",
      "  74949, 74046, 74049, 74055, 74056, 74057, 74058, 74067, 74068, 74069,\n",
      "  75023, 75025, 74087, 74088, 75060, 75061, 74096, 74097, 74099, 74104,\n",
      "  74105, 74106, 74110, 74111, 74112, 74113, 74136, 74137, 74134, 74135,\n",
      "  74146, 75081, 75082, 75083, 75084, 74165, 74171, 74174, 74172, 75101,\n",
      "  74181, 74183, 74184, 74185, 74186, 75121, 75122, 75123, 74213, 74214,\n",
      "  75124, 75126, 75131, 75134, 74225, 74226, 74228, 75167, 75168, 75169,\n",
      "  74234, 75181, 75182, 75183, 75184, 75185, 75186, 75187, 75189, 75191,\n",
      "  74253, 74250, 74274, 74271, 74272, 74277, 74278, 75207, 75208, 75209,\n",
      "  75210, 74286, 74288, 74289, 75219, 74295, 74296, 74297, 74298, 74299,\n",
      "  74300, 74308, 74309, 74323, 74324, 75243, 74364, 74365, 74366, 74367,\n",
      "  74369, 74372, 74374, 74375, 74378, 75276, 75281, 75282, 75283, 74389,\n",
      "  75287, 75288, 74392, 74393, 75291, 74402, 74404, 75319, 75320, 75321,\n",
      "  75322, 75323, 75324, and 74408. Note that ranges located on a sequence\n",
      "  whose length is unknown (NA) or on a circular sequence are not\n",
      "  considered out-of-bound (use seqlengths() and isCircular() to get the\n",
      "  lengths and circularity flags of the underlying sequences). You can use\n",
      "  trim() to trim these ranges. See ?`trim,GenomicRanges-method` for more\n",
      "  information.”\n"
     ]
    }
   ],
   "source": [
    "########## Criterion 2: non-synonymous variants ##########\n",
    "\n",
    "# Predict the coding effect of the variants\n",
    "coding = predictCoding(vcf_chr22, txdb, seqSource=Hsapiens)\n",
    "\n",
    "# Select the non-synoymous mutations (change AA)\n",
    "nonsyn = coding[coding$REFAA != coding$VARAA, ]\n",
    "variants = table(nonsyn$GENEID)\n",
    "gene_ids = names(variants)\n",
    "variants = as.numeric(variants)\n",
    "names(variants) = gene_ids"
   ]
  },
  {
   "cell_type": "code",
   "execution_count": 124,
   "id": "d5bb605b-52f9-4cf9-b868-c7e91366ee1e",
   "metadata": {},
   "outputs": [
    {
     "name": "stderr",
     "output_type": "stream",
     "text": [
      "'select()' returned 1:1 mapping between keys and columns\n",
      "\n"
     ]
    }
   ],
   "source": [
    "##################################################################################\n",
    "\n",
    "# Convert EntrezID into Symbol\n",
    "symbols = mapIds(org.Hs.eg.db,\n",
    "                  keys = gene_ids,\n",
    "                  column = \"SYMBOL\",\n",
    "                  keytype = \"ENTREZID\",\n",
    "                  multiVals = \"first\")\n",
    "\n",
    "df = data.frame(row.names = gene_ids, Mutation_count = variants, Gene_symbol = symbols)"
   ]
  },
  {
   "cell_type": "code",
   "execution_count": 125,
   "id": "42edcdb0-ffd7-48d1-a33d-121111b909b1",
   "metadata": {},
   "outputs": [
    {
     "name": "stderr",
     "output_type": "stream",
     "text": [
      "  3 genes were dropped because they have exons located on both strands of\n",
      "  the same reference sequence or on more than one reference sequence, so\n",
      "  cannot be represented by a single genomic range.\n",
      "  Use 'single.strand.genes.only=FALSE' to get all the genes in a\n",
      "  GRangesList object, or use suppressMessages() to suppress this message.\n",
      "\n"
     ]
    }
   ],
   "source": [
    "# Locate the genes\n",
    "gene_locs = genes(txdb, filter = list(gene_id = gene_ids), single.strand.genes.only=T)\n",
    "gene_locs$symbol = symbols[match(gene_locs$gene_id, gene_ids)]\n",
    "df_ft = data.frame(\n",
    "    row.names = gene_locs$gene_id,\n",
    "    Chromosome = as.character(seqnames(gene_locs)),\n",
    "    Gene_symbol = gene_locs$symbol,\n",
    "    stringsAsFactors = FALSE\n",
    ")"
   ]
  },
  {
   "cell_type": "code",
   "execution_count": 127,
   "id": "bfde9521-efb4-4bbd-b529-48e501d3d0a1",
   "metadata": {},
   "outputs": [
    {
     "data": {
      "text/html": [
       "<table class=\"dataframe\">\n",
       "<caption>A data.frame: 10 × 2</caption>\n",
       "<thead>\n",
       "\t<tr><th></th><th scope=col>Chromosome</th><th scope=col>Gene_symbol</th></tr>\n",
       "\t<tr><th></th><th scope=col>&lt;chr&gt;</th><th scope=col>&lt;chr&gt;</th></tr>\n",
       "</thead>\n",
       "<tbody>\n",
       "\t<tr><th scope=row>1000</th><td>chr18</td><td>CDH2        </td></tr>\n",
       "\t<tr><th scope=row>100037417</th><td>chr22</td><td>DDTL        </td></tr>\n",
       "\t<tr><th scope=row>100101467</th><td>chr18</td><td>ZSCAN30     </td></tr>\n",
       "\t<tr><th scope=row>100126318</th><td>chr22</td><td>MIR301B     </td></tr>\n",
       "\t<tr><th scope=row>100128531</th><td>chr22</td><td>KIAA1671-AS1</td></tr>\n",
       "\t<tr><th scope=row>100128893</th><td>chr18</td><td>GATA6-AS1   </td></tr>\n",
       "\t<tr><th scope=row>100128946</th><td>chr22</td><td>LINC01310   </td></tr>\n",
       "\t<tr><th scope=row>100130370</th><td>chr17</td><td>LINC03048   </td></tr>\n",
       "\t<tr><th scope=row>100130418</th><td>chr22</td><td>CECR7       </td></tr>\n",
       "\t<tr><th scope=row>100130480</th><td>chr18</td><td>LINC01387   </td></tr>\n",
       "</tbody>\n",
       "</table>\n"
      ],
      "text/latex": [
       "A data.frame: 10 × 2\n",
       "\\begin{tabular}{r|ll}\n",
       "  & Chromosome & Gene\\_symbol\\\\\n",
       "  & <chr> & <chr>\\\\\n",
       "\\hline\n",
       "\t1000 & chr18 & CDH2        \\\\\n",
       "\t100037417 & chr22 & DDTL        \\\\\n",
       "\t100101467 & chr18 & ZSCAN30     \\\\\n",
       "\t100126318 & chr22 & MIR301B     \\\\\n",
       "\t100128531 & chr22 & KIAA1671-AS1\\\\\n",
       "\t100128893 & chr18 & GATA6-AS1   \\\\\n",
       "\t100128946 & chr22 & LINC01310   \\\\\n",
       "\t100130370 & chr17 & LINC03048   \\\\\n",
       "\t100130418 & chr22 & CECR7       \\\\\n",
       "\t100130480 & chr18 & LINC01387   \\\\\n",
       "\\end{tabular}\n"
      ],
      "text/markdown": [
       "\n",
       "A data.frame: 10 × 2\n",
       "\n",
       "| <!--/--> | Chromosome &lt;chr&gt; | Gene_symbol &lt;chr&gt; |\n",
       "|---|---|---|\n",
       "| 1000 | chr18 | CDH2         |\n",
       "| 100037417 | chr22 | DDTL         |\n",
       "| 100101467 | chr18 | ZSCAN30      |\n",
       "| 100126318 | chr22 | MIR301B      |\n",
       "| 100128531 | chr22 | KIAA1671-AS1 |\n",
       "| 100128893 | chr18 | GATA6-AS1    |\n",
       "| 100128946 | chr22 | LINC01310    |\n",
       "| 100130370 | chr17 | LINC03048    |\n",
       "| 100130418 | chr22 | CECR7        |\n",
       "| 100130480 | chr18 | LINC01387    |\n",
       "\n"
      ],
      "text/plain": [
       "          Chromosome Gene_symbol \n",
       "1000      chr18      CDH2        \n",
       "100037417 chr22      DDTL        \n",
       "100101467 chr18      ZSCAN30     \n",
       "100126318 chr22      MIR301B     \n",
       "100128531 chr22      KIAA1671-AS1\n",
       "100128893 chr18      GATA6-AS1   \n",
       "100128946 chr22      LINC01310   \n",
       "100130370 chr17      LINC03048   \n",
       "100130418 chr22      CECR7       \n",
       "100130480 chr18      LINC01387   "
      ]
     },
     "metadata": {},
     "output_type": "display_data"
    }
   ],
   "source": [
    "# There is a potential issue here that if choosing IntronVariants() in the locateVariants function, \n",
    "# the identified genes are located in chromosome 17 and 18\n",
    "df_ft %>% head(10)"
   ]
  },
  {
   "cell_type": "code",
   "execution_count": 119,
   "id": "f795eb23-4c2a-4b3e-ace6-87cfe96c381e",
   "metadata": {
    "scrolled": true
   },
   "outputs": [],
   "source": [
    "# Filter genes not on chr22 and rank them by mutation counts\n",
    "df$Chromosome = df_ft[rownames(df),'Chromosome']\n",
    "df = df %>% filter(Chromosome == 'chr22') %>% arrange(desc(Mutation_count))\n",
    "#write.csv(df,file='./genelist/genelist_AllVariants.csv')\n",
    "write.csv(df,file='./genelist/genelist_NonSynoymousVariants.csv')"
   ]
  },
  {
   "cell_type": "code",
   "execution_count": 120,
   "id": "96ab14e8-005d-47de-b7c4-12a4587a93fb",
   "metadata": {},
   "outputs": [],
   "source": [
    "# Select top10 genes, get their location and subset the VCF file\n",
    "g10 = rownames(df)[1:10]\n",
    "g10_locs = gene_locs[names(gene_locs) %in% g10]\n",
    "vcf_ranges = rowRanges(vcf_chr22)\n",
    "hits = findOverlaps(vcf_ranges, g10_locs)\n",
    "vcf_g10 = vcf_chr22[queryHits(hits)]\n",
    "#writeVcf(vcf_g10, \"./genelist/gene_variants_chr22_AllVariants.vcf\")\n",
    "writeVcf(vcf_g10, \"./genelist/gene_variants_chr22_NonSynoymousVariants.vcf\")"
   ]
  }
 ],
 "metadata": {
  "kernelspec": {
   "display_name": "R",
   "language": "R",
   "name": "ir"
  },
  "language_info": {
   "codemirror_mode": "r",
   "file_extension": ".r",
   "mimetype": "text/x-r-source",
   "name": "R",
   "pygments_lexer": "r",
   "version": "4.4.1"
  }
 },
 "nbformat": 4,
 "nbformat_minor": 5
}
